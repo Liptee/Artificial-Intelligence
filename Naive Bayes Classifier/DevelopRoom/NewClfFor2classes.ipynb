{
 "cells": [
  {
   "cell_type": "code",
   "execution_count": 1,
   "id": "df5813b1",
   "metadata": {},
   "outputs": [],
   "source": [
    "import numpy as np\n",
    "import matplotlib.pyplot as plt\n",
    "from random import randint\n",
    "from sklearn.utils import shuffle\n",
    "from sklearn.linear_model import LogisticRegression\n",
    "from sklearn.metrics import accuracy_score\n",
    "import time\n",
    "from math import fabs\n",
    "from sklearn.metrics import confusion_matrix"
   ]
  },
  {
   "cell_type": "code",
   "execution_count": 2,
   "id": "a6a6b374",
   "metadata": {},
   "outputs": [
    {
     "data": {
      "text/plain": [
       "0.65"
      ]
     },
     "execution_count": 2,
     "metadata": {},
     "output_type": "execute_result"
    }
   ],
   "source": [
    "while True:\n",
    "    noise = np.random.randn(20, 2)\n",
    "    \n",
    "    cloud1 = noise\n",
    "    cloud2 = noise + np.array([randint(-2, 2),randint(-2, 2)])\n",
    "\n",
    "    X = np.vstack([cloud1, cloud2])\n",
    "\n",
    "    annot1 = [0] * cloud1.shape[0]\n",
    "    annot2 = [1] * cloud2.shape[0]\n",
    "\n",
    "    y = annot1 +annot2\n",
    "\n",
    "    data, labels = shuffle(X, y)\n",
    "\n",
    "    test_size = int(len(data) * 0.5)\n",
    "    Xtrain = data[:test_size]\n",
    "    Ytrain = labels[:test_size]\n",
    "    Xtest = data[test_size:]\n",
    "    Ytest = labels[test_size:]\n",
    "\n",
    "    clf = LogisticRegression()\n",
    "    clf.fit(Xtrain, Ytrain)\n",
    "\n",
    "    predictions = clf.predict(Xtest)\n",
    "\n",
    "    break\n",
    "accuracy_score(Ytest, predictions)"
   ]
  },
  {
   "cell_type": "code",
   "execution_count": 3,
   "id": "a3f096e5",
   "metadata": {},
   "outputs": [
    {
     "data": {
      "text/plain": [
       "<matplotlib.collections.PathCollection at 0x20979a8e2b0>"
      ]
     },
     "execution_count": 3,
     "metadata": {},
     "output_type": "execute_result"
    },
    {
     "data": {
      "image/png": "[encoded data removed]",
      "text/plain": [
       "<Figure size 432x288 with 1 Axes>"
      ]
     },
     "metadata": {
      "needs_background": "light"
     },
     "output_type": "display_data"
    }
   ],
   "source": [
    "plt.scatter(X[:,0], X[:,1], c=y)"
   ]
  },
  {
   "cell_type": "code",
   "execution_count": 4,
   "id": "1eb17f48",
   "metadata": {},
   "outputs": [
    {
     "data": {
      "text/plain": [
       "array([[-0.52447568, -0.3423412 ],\n",
       "       [ 0.47927078,  0.40310864],\n",
       "       [ 2.10693239, -0.02180415],\n",
       "       [ 1.45072374, -0.03266326],\n",
       "       [ 1.45470778, -0.07815256],\n",
       "       [-0.63098069, -0.60094871],\n",
       "       [ 0.81829113,  0.3481095 ],\n",
       "       [ 0.58000727,  1.10505101],\n",
       "       [ 1.47927078,  0.40310864],\n",
       "       [ 2.26003451, -0.3088437 ],\n",
       "       [-0.59183875,  0.57640037],\n",
       "       [-1.27510655, -0.59092886],\n",
       "       [ 1.81829113,  0.3481095 ],\n",
       "       [ 0.32768156, -0.04356765],\n",
       "       [ 0.84426992, -0.87653817],\n",
       "       [-1.21554269,  1.85442648],\n",
       "       [ 2.45470778, -0.07815256],\n",
       "       [ 1.10693239, -0.02180415],\n",
       "       [ 0.45072374, -0.03266326],\n",
       "       [ 1.22229095,  0.00751993]])"
      ]
     },
     "execution_count": 4,
     "metadata": {},
     "output_type": "execute_result"
    }
   ],
   "source": [
    "Xtrain"
   ]
  },
  {
   "cell_type": "code",
   "execution_count": 5,
   "id": "31f59c0d",
   "metadata": {},
   "outputs": [
    {
     "data": {
      "text/plain": [
       "[0, 0, 1, 1, 0, 1, 0, 1, 1, 1, 0, 0, 1, 0, 1, 0, 1, 0, 0, 0]"
      ]
     },
     "execution_count": 5,
     "metadata": {},
     "output_type": "execute_result"
    }
   ],
   "source": [
    "Ytrain"
   ]
  },
  {
   "cell_type": "code",
   "execution_count": 6,
   "id": "d26c1e71",
   "metadata": {},
   "outputs": [],
   "source": [
    "dict = [[],[]]\n",
    "i = 0 \n",
    "for element in Xtrain:\n",
    "    classs = Ytrain[i] # переменная classs нужна для того, чтобы каждый элемент знал в какой из подмассивов\n",
    "                       # он отправится\n",
    "    dict[classs].append(element) # здесь как раз сортируются координаты по соответствующим подмассивам\n",
    "    i+=1"
   ]
  },
  {
   "cell_type": "code",
   "execution_count": 7,
   "id": "62d3d9f4",
   "metadata": {},
   "outputs": [
    {
     "data": {
      "text/plain": [
       "[[array([-0.52447568, -0.3423412 ]),\n",
       "  array([0.47927078, 0.40310864]),\n",
       "  array([ 1.45470778, -0.07815256]),\n",
       "  array([0.81829113, 0.3481095 ]),\n",
       "  array([-0.59183875,  0.57640037]),\n",
       "  array([-1.27510655, -0.59092886]),\n",
       "  array([ 0.32768156, -0.04356765]),\n",
       "  array([-1.21554269,  1.85442648]),\n",
       "  array([ 1.10693239, -0.02180415]),\n",
       "  array([ 0.45072374, -0.03266326]),\n",
       "  array([1.22229095, 0.00751993])],\n",
       " [array([ 2.10693239, -0.02180415]),\n",
       "  array([ 1.45072374, -0.03266326]),\n",
       "  array([-0.63098069, -0.60094871]),\n",
       "  array([0.58000727, 1.10505101]),\n",
       "  array([1.47927078, 0.40310864]),\n",
       "  array([ 2.26003451, -0.3088437 ]),\n",
       "  array([1.81829113, 0.3481095 ]),\n",
       "  array([ 0.84426992, -0.87653817]),\n",
       "  array([ 2.45470778, -0.07815256])]]"
      ]
     },
     "execution_count": 7,
     "metadata": {},
     "output_type": "execute_result"
    }
   ],
   "source": [
    "dict"
   ]
  },
  {
   "cell_type": "code",
   "execution_count": 8,
   "id": "607b93ef",
   "metadata": {},
   "outputs": [
    {
     "name": "stdout",
     "output_type": "stream",
     "text": [
      "-1.2751065547390403 1.4547077813537679\n"
     ]
    }
   ],
   "source": [
    "# for i in dict[0]:\n",
    "minX = dict[0][0][0]\n",
    "maxX = dict[0][0][0]\n",
    "for i in dict[0]:\n",
    "    if i[0] < minX:\n",
    "        minX = i[0]\n",
    "for m in dict[0]:\n",
    "    if m[0] > maxX:\n",
    "        maxX = m[0]\n",
    "print(minX, maxX)"
   ]
  },
  {
   "cell_type": "code",
   "execution_count": 9,
   "id": "899da422",
   "metadata": {},
   "outputs": [],
   "source": [
    "def check (minX, maxX, lst):\n",
    "    lessmin = []\n",
    "    moremin = []\n",
    "    lessmax = []\n",
    "    moremax = []\n",
    "    for element in lst:\n",
    "        if element[0] < minX:\n",
    "            lessmin.append(element)\n",
    "        if element[0] > minX:\n",
    "            moremin.append(element)\n",
    "    for element in lst:\n",
    "        if element[0] < maxX:\n",
    "            lessmax.append(element)\n",
    "        if element[0] > maxX:\n",
    "            moremax.append(element)\n",
    "    return (lessmin, moremin, lessmax, moremax)"
   ]
  },
  {
   "cell_type": "code",
   "execution_count": 10,
   "id": "ac93a081",
   "metadata": {},
   "outputs": [],
   "source": [
    "f = 0.00000001\n",
    "lx0, mx0, lx1, mx1 = check (minX, maxX, Xtrain)\n",
    "lx0 = len(lx0) + f\n",
    "mx0 = len(mx0) + f\n",
    "lx1 = len(lx1) + f\n",
    "mx1 = len(mx1) + f"
   ]
  },
  {
   "cell_type": "code",
   "execution_count": 11,
   "id": "13834bc6",
   "metadata": {},
   "outputs": [
    {
     "data": {
      "text/plain": [
       "(1e-08, 19.00000001, 14.00000001, 5.00000001)"
      ]
     },
     "execution_count": 11,
     "metadata": {},
     "output_type": "execute_result"
    }
   ],
   "source": [
    "lx0, mx0, lx1, mx1"
   ]
  },
  {
   "cell_type": "code",
   "execution_count": 12,
   "id": "7b98041c",
   "metadata": {},
   "outputs": [
    {
     "name": "stdout",
     "output_type": "stream",
     "text": [
      "11 9\n"
     ]
    }
   ],
   "source": [
    "cl0 = 0\n",
    "cl1 = 0\n",
    "for e in Ytrain:\n",
    "    \n",
    "    if e == 0:\n",
    "        cl0+=1\n",
    "    if e == 1:\n",
    "        cl1+=1\n",
    "print(cl0,cl1)"
   ]
  },
  {
   "cell_type": "code",
   "execution_count": 13,
   "id": "58f76732",
   "metadata": {},
   "outputs": [],
   "source": [
    "mincl = mx0/len(Ytrain)\n",
    "maxcl = lx1/len(Ytrain)\n",
    "truecl = cl0/len(Ytrain)"
   ]
  },
  {
   "cell_type": "code",
   "execution_count": 14,
   "id": "a3a59ac6",
   "metadata": {},
   "outputs": [
    {
     "data": {
      "text/plain": [
       "0.7000000005"
      ]
     },
     "execution_count": 14,
     "metadata": {},
     "output_type": "execute_result"
    }
   ],
   "source": [
    "maxcl"
   ]
  },
  {
   "cell_type": "code",
   "execution_count": 15,
   "id": "0eb65ee1",
   "metadata": {},
   "outputs": [],
   "source": [
    "def T():\n",
    "    minres = fabs(truecl - mincl)\n",
    "    maxres = fabs(truecl - maxcl)\n",
    "    if minres < maxres:\n",
    "        return (minX, 0)\n",
    "    else:\n",
    "        return (maxX, 1)"
   ]
  },
  {
   "cell_type": "code",
   "execution_count": 16,
   "id": "1daac39e",
   "metadata": {},
   "outputs": [
    {
     "data": {
      "text/plain": [
       "1.4547077813537679"
      ]
     },
     "execution_count": 16,
     "metadata": {},
     "output_type": "execute_result"
    }
   ],
   "source": [
    "trainfin, hlp = T()\n",
    "trainfin"
   ]
  },
  {
   "cell_type": "code",
   "execution_count": 17,
   "id": "e0ef7d2a",
   "metadata": {},
   "outputs": [],
   "source": [
    "def predict(x, hlp, lst):\n",
    "    pred = []\n",
    "    for element in lst:\n",
    "        if hlp == 0:\n",
    "            if element[0] > x:\n",
    "                pred.append(element[0])\n",
    "        if hlp == 1:\n",
    "            if element[0] < x:\n",
    "                pred.append(element[0])\n",
    "    return pred"
   ]
  },
  {
   "cell_type": "code",
   "execution_count": 18,
   "id": "cd065d44",
   "metadata": {},
   "outputs": [],
   "source": [
    "leng = len(predict(trainfin, hlp, Xtest))"
   ]
  },
  {
   "cell_type": "code",
   "execution_count": 19,
   "id": "0c431877",
   "metadata": {},
   "outputs": [
    {
     "data": {
      "text/plain": [
       "17"
      ]
     },
     "execution_count": 19,
     "metadata": {},
     "output_type": "execute_result"
    }
   ],
   "source": [
    "leng"
   ]
  }
 ],
 "metadata": {
  "kernelspec": {
   "display_name": "Python 3",
   "language": "python",
   "name": "python3"
  },
  "language_info": {
   "codemirror_mode": {
    "name": "ipython",
    "version": 3
   },
   "file_extension": ".py",
   "mimetype": "text/x-python",
   "name": "python",
   "nbconvert_exporter": "python",
   "pygments_lexer": "ipython3",
   "version": "3.8.8"
  }
 },
 "nbformat": 4,
 "nbformat_minor": 5
}
