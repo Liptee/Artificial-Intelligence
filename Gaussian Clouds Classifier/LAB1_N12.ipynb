{
 "cells": [
  {
   "cell_type": "code",
   "execution_count": 2,
   "id": "15e00ac3",
   "metadata": {},
   "outputs": [
    {
     "name": "stdout",
     "output_type": "stream",
     "text": [
      "[[ 0.2217069  -0.2835038 ]\n",
      " [-0.30835858  0.94384513]\n",
      " [-1.01800233  1.81239242]\n",
      " ...\n",
      " [-0.97460972  0.09858184]\n",
      " [-0.62506594 -0.91371608]\n",
      " [ 0.63544693  0.55343737]]\n"
     ]
    },
    {
     "ename": "NameError",
     "evalue": "name 'shuffle' is not defined",
     "output_type": "error",
     "traceback": [
      "\u001b[1;31m---------------------------------------------------------------------------\u001b[0m",
      "\u001b[1;31mNameError\u001b[0m                                 Traceback (most recent call last)",
      "\u001b[1;32m<ipython-input-2-1d00a74edb98>\u001b[0m in \u001b[0;36m<module>\u001b[1;34m\u001b[0m\n\u001b[0;32m     27\u001b[0m     \u001b[0my\u001b[0m \u001b[1;33m=\u001b[0m \u001b[0mannot1\u001b[0m \u001b[1;33m+\u001b[0m\u001b[0mannot2\u001b[0m \u001b[1;33m+\u001b[0m \u001b[0mannot3\u001b[0m \u001b[1;33m+\u001b[0m \u001b[0mannot4\u001b[0m \u001b[1;33m+\u001b[0m \u001b[0mannot5\u001b[0m\u001b[1;33m\u001b[0m\u001b[1;33m\u001b[0m\u001b[0m\n\u001b[0;32m     28\u001b[0m \u001b[1;33m\u001b[0m\u001b[0m\n\u001b[1;32m---> 29\u001b[1;33m     \u001b[0mdata\u001b[0m\u001b[1;33m,\u001b[0m \u001b[0mlabels\u001b[0m \u001b[1;33m=\u001b[0m \u001b[0mshuffle\u001b[0m\u001b[1;33m(\u001b[0m\u001b[0mX\u001b[0m\u001b[1;33m,\u001b[0m \u001b[0my\u001b[0m\u001b[1;33m)\u001b[0m\u001b[1;33m\u001b[0m\u001b[1;33m\u001b[0m\u001b[0m\n\u001b[0m\u001b[0;32m     30\u001b[0m \u001b[1;33m\u001b[0m\u001b[0m\n\u001b[0;32m     31\u001b[0m     \u001b[0mtest_size\u001b[0m \u001b[1;33m=\u001b[0m \u001b[0mint\u001b[0m\u001b[1;33m(\u001b[0m\u001b[0mlen\u001b[0m\u001b[1;33m(\u001b[0m\u001b[0mdata\u001b[0m\u001b[1;33m)\u001b[0m \u001b[1;33m*\u001b[0m \u001b[1;36m0.5\u001b[0m\u001b[1;33m)\u001b[0m\u001b[1;33m\u001b[0m\u001b[1;33m\u001b[0m\u001b[0m\n",
      "\u001b[1;31mNameError\u001b[0m: name 'shuffle' is not defined"
     ]
    }
   ],
   "source": [
    "import numpy as np\n",
    "from random import randint\n",
    "import matplotlib.pyplot as plt\n",
    "import matplotlib\n",
    "import sklearn\n",
    "from sklearn.linear_model import LogisticRegression\n",
    "from sklearn.metrics import accuracy_score\n",
    "from sklearn.metrics import confusion_matrix\n",
    "\n",
    "noise = np.random.randn(997, 2)\n",
    "print (noise)\n",
    "while True:\n",
    "    \n",
    "    cloud1 = noise + np.array ([randint(-2, 2), randint(-2, 2)])\n",
    "    cloud2 = noise + np.array([randint(-2, 2),randint(-2, 2)])\n",
    "    cloud3 = noise + np.array([randint(-2, 2),randint(-2, 2)])\n",
    "    cloud4 = noise + np.array([randint(-2, 2),randint(-2, 2)])\n",
    "    cloud5 = noise + np.array([randint(-2, 2), randint(-2, 2)])\n",
    "\n",
    "    X = np.vstack([cloud1, cloud2, cloud3, cloud4, cloud5])\n",
    "\n",
    "    annot1 = [0] * cloud1.shape[0]\n",
    "    annot2 = [1] * cloud2.shape[0]\n",
    "    annot3 = [2] * cloud3.shape[0]\n",
    "    annot4 = [3] * cloud4.shape[0]\n",
    "    annot5 = [4] * cloud5.shape[0]\n",
    "    y = annot1 +annot2 + annot3 + annot4 + annot5\n",
    "\n",
    "    data, labels = shuffle(X, y)\n",
    "\n",
    "    test_size = int(len(data) * 0.5)\n",
    "    Xtrain = data[:test_size]\n",
    "    Ytrain = labels[:test_size]\n",
    "    Xtest = data[test_size:]\n",
    "    Ytest = labels[test_size:]\n",
    "\n",
    "    clf = LogisticRegression()\n",
    "    clf.fit(Xtrain, Ytrain)\n",
    "\n",
    "    predictions = clf.predict(Xtest)\n",
    "\n",
    "    if accuracy_score(Ytest, predictions)>=0.704:\n",
    "        if accuracy_score(Ytest, predictions)<=0.716:\n",
    "            break\n",
    "            \n",
    "print (accuracy_score(Ytest, predictions))\n",
    "print (plt.scatter(X[:,0], X[:,1], c=y)) \n",
    "print (confusion_matrix(Ytest, predictions))"
   ]
  }
 ],
 "metadata": {
  "kernelspec": {
   "display_name": "Python 3",
   "language": "python",
   "name": "python3"
  },
  "language_info": {
   "codemirror_mode": {
    "name": "ipython",
    "version": 3
   },
   "file_extension": ".py",
   "mimetype": "text/x-python",
   "name": "python",
   "nbconvert_exporter": "python",
   "pygments_lexer": "ipython3",
   "version": "3.8.8"
  }
 },
 "nbformat": 4,
 "nbformat_minor": 5
}
